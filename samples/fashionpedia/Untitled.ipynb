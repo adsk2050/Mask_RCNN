{
 "cells": [
  {
   "cell_type": "code",
   "execution_count": 1,
   "id": "eaa5a731",
   "metadata": {},
   "outputs": [],
   "source": [
    "import json"
   ]
  },
  {
   "cell_type": "code",
   "execution_count": 19,
   "id": "fe684afa",
   "metadata": {
    "scrolled": true
   },
   "outputs": [],
   "source": [
    "with open(\"./dataset/annotations/instances_attributes_val2020.json\", 'r') as f:\n",
    "    stuff = json.loads(f.read())"
   ]
  },
  {
   "cell_type": "code",
   "execution_count": 20,
   "id": "bf87c517",
   "metadata": {},
   "outputs": [
    {
     "data": {
      "text/plain": [
       "46"
      ]
     },
     "execution_count": 20,
     "metadata": {},
     "output_type": "execute_result"
    }
   ],
   "source": [
    "len(stuff['categories'])"
   ]
  },
  {
   "cell_type": "code",
   "execution_count": 21,
   "id": "983b6443",
   "metadata": {},
   "outputs": [],
   "source": [
    "import pandas as pd"
   ]
  },
  {
   "cell_type": "code",
   "execution_count": 22,
   "id": "c5f22b7d",
   "metadata": {},
   "outputs": [
    {
     "data": {
      "text/plain": [
       "46"
      ]
     },
     "execution_count": 22,
     "metadata": {},
     "output_type": "execute_result"
    }
   ],
   "source": [
    "pd.DataFrame(stuff['categories'])['taxonomy_id'].nunique()"
   ]
  },
  {
   "cell_type": "code",
   "execution_count": 23,
   "id": "09a1fbba",
   "metadata": {},
   "outputs": [
    {
     "data": {
      "text/plain": [
       "dict_keys(['info', 'categories', 'attributes', 'licenses', 'annotations', 'images'])"
      ]
     },
     "execution_count": 23,
     "metadata": {},
     "output_type": "execute_result"
    }
   ],
   "source": [
    "stuff.keys()"
   ]
  },
  {
   "cell_type": "code",
   "execution_count": 25,
   "id": "78c5a006",
   "metadata": {},
   "outputs": [
    {
     "data": {
      "text/plain": [
       "dict_keys(['image_id', 'category_id', 'attribute_ids', 'segmentation', 'bbox', 'area', 'iscrowd', 'id'])"
      ]
     },
     "execution_count": 25,
     "metadata": {},
     "output_type": "execute_result"
    }
   ],
   "source": [
    "stuff['annotations'][0].keys()"
   ]
  },
  {
   "cell_type": "code",
   "execution_count": 27,
   "id": "e42bf079",
   "metadata": {},
   "outputs": [
    {
     "data": {
      "text/plain": [
       "{'id': 13297,\n",
       " 'width': 771,\n",
       " 'height': 1024,\n",
       " 'file_name': 'e14733841b04c64e75789a91fbe549b3.jpg',\n",
       " 'license': 3,\n",
       " 'time_captured': 'March-August, 2018',\n",
       " 'original_url': 'http://farm3.staticflickr.com/2908/33675201796_d5dfe329da_n.jpg',\n",
       " 'isstatic': 1,\n",
       " 'kaggle_id': 'e14733841b04c64e75789a91fbe549b3'}"
      ]
     },
     "execution_count": 27,
     "metadata": {},
     "output_type": "execute_result"
    }
   ],
   "source": [
    "stuff['images'][0]"
   ]
  },
  {
   "cell_type": "code",
   "execution_count": 28,
   "id": "a539c3f7",
   "metadata": {},
   "outputs": [],
   "source": [
    "import os"
   ]
  },
  {
   "cell_type": "code",
   "execution_count": 29,
   "id": "2b9b3d7c",
   "metadata": {},
   "outputs": [
    {
     "data": {
      "text/plain": [
       "'C:\\\\Users\\\\anmol.deep\\\\PycharmProjects\\\\Mask_RCNN\\\\samples\\\\fashionpedia'"
      ]
     },
     "execution_count": 29,
     "metadata": {},
     "output_type": "execute_result"
    }
   ],
   "source": [
    "os.getcwd()"
   ]
  },
  {
   "cell_type": "code",
   "execution_count": 33,
   "id": "c8e6054a",
   "metadata": {},
   "outputs": [
    {
     "data": {
      "text/plain": [
       "'C:\\\\Users\\\\anmol.deep\\\\PycharmProjects\\\\Mask_RCNN\\\\samples\\\\fashionpedia\\\\dataset\\\\annotations'"
      ]
     },
     "execution_count": 33,
     "metadata": {},
     "output_type": "execute_result"
    }
   ],
   "source": [
    "os.path.join(os.getcwd(), \"dataset\\\\annotations\")"
   ]
  },
  {
   "cell_type": "code",
   "execution_count": 35,
   "id": "9138b788",
   "metadata": {},
   "outputs": [
    {
     "ename": "FileNotFoundError",
     "evalue": "[Errno 2] No such file or directory: 'C:\\\\Users\\\\anmol.deep\\\\PycharmProjects\\\\Mask_RCNN\\\\samples\\\\fashionpedia\\\\dataset/annotations/instances_attributes_minival2020.json'",
     "output_type": "error",
     "traceback": [
      "\u001b[1;31m---------------------------------------------------------------------------\u001b[0m",
      "\u001b[1;31mFileNotFoundError\u001b[0m                         Traceback (most recent call last)",
      "\u001b[1;32mC:\\Users\\ANMOL~1.DEE\\AppData\\Local\\Temp/ipykernel_18436/491591972.py\u001b[0m in \u001b[0;36m<module>\u001b[1;34m\u001b[0m\n\u001b[1;32m----> 1\u001b[1;33m \u001b[1;32mwith\u001b[0m \u001b[0mopen\u001b[0m\u001b[1;33m(\u001b[0m\u001b[1;34m\"C:\\\\Users\\\\anmol.deep\\\\PycharmProjects\\\\Mask_RCNN\\\\samples\\\\fashionpedia\\\\dataset/annotations/instances_attributes_minival2020.json\"\u001b[0m\u001b[1;33m,\u001b[0m \u001b[1;34m\"r\"\u001b[0m\u001b[1;33m)\u001b[0m \u001b[1;32mas\u001b[0m \u001b[0mf\u001b[0m\u001b[1;33m:\u001b[0m\u001b[1;33m\u001b[0m\u001b[1;33m\u001b[0m\u001b[0m\n\u001b[0m\u001b[0;32m      2\u001b[0m     \u001b[0mf\u001b[0m\u001b[1;33m.\u001b[0m\u001b[0mread\u001b[0m\u001b[1;33m(\u001b[0m\u001b[1;33m)\u001b[0m\u001b[1;33m\u001b[0m\u001b[1;33m\u001b[0m\u001b[0m\n",
      "\u001b[1;31mFileNotFoundError\u001b[0m: [Errno 2] No such file or directory: 'C:\\\\Users\\\\anmol.deep\\\\PycharmProjects\\\\Mask_RCNN\\\\samples\\\\fashionpedia\\\\dataset/annotations/instances_attributes_minival2020.json'"
     ]
    }
   ],
   "source": [
    "with open(\"C:\\\\Users\\\\anmol.deep\\\\PycharmProjects\\\\Mask_RCNN\\\\samples\\\\fashionpedia\\\\dataset/annotations/instances_attributes_minival2020.json\", \"r\") as f:\n",
    "    f.read()"
   ]
  },
  {
   "cell_type": "code",
   "execution_count": 39,
   "id": "c9aaa953",
   "metadata": {},
   "outputs": [
    {
     "ename": "OSError",
     "evalue": "[Errno 22] Invalid argument: '/C:/Users/anmol.deep/PycharmProjects/Mask_RCNN/samples/fashionpedia/dataset/annotations/instances_attributes_minival2020.json'",
     "output_type": "error",
     "traceback": [
      "\u001b[1;31m---------------------------------------------------------------------------\u001b[0m",
      "\u001b[1;31mOSError\u001b[0m                                   Traceback (most recent call last)",
      "\u001b[1;32mC:\\Users\\ANMOL~1.DEE\\AppData\\Local\\Temp/ipykernel_18436/3501775831.py\u001b[0m in \u001b[0;36m<module>\u001b[1;34m\u001b[0m\n\u001b[1;32m----> 1\u001b[1;33m \u001b[1;32mwith\u001b[0m \u001b[0mopen\u001b[0m\u001b[1;33m(\u001b[0m\u001b[1;34m\"/C:/Users/anmol.deep/PycharmProjects/Mask_RCNN/samples/fashionpedia/dataset/annotations/instances_attributes_minival2020.json\"\u001b[0m\u001b[1;33m,\u001b[0m \u001b[1;34m\"r\"\u001b[0m\u001b[1;33m)\u001b[0m \u001b[1;32mas\u001b[0m \u001b[0mf\u001b[0m\u001b[1;33m:\u001b[0m\u001b[1;33m\u001b[0m\u001b[1;33m\u001b[0m\u001b[0m\n\u001b[0m\u001b[0;32m      2\u001b[0m     \u001b[0mf\u001b[0m\u001b[1;33m.\u001b[0m\u001b[0mread\u001b[0m\u001b[1;33m(\u001b[0m\u001b[1;33m)\u001b[0m\u001b[1;33m\u001b[0m\u001b[1;33m\u001b[0m\u001b[0m\n",
      "\u001b[1;31mOSError\u001b[0m: [Errno 22] Invalid argument: '/C:/Users/anmol.deep/PycharmProjects/Mask_RCNN/samples/fashionpedia/dataset/annotations/instances_attributes_minival2020.json'"
     ]
    }
   ],
   "source": [
    "with open(\"/C:/Users/anmol.deep/PycharmProjects/Mask_RCNN/samples/fashionpedia/dataset/annotations/instances_attributes_minival2020.json\", \"r\") as f:\n",
    "    f.read()"
   ]
  },
  {
   "cell_type": "code",
   "execution_count": 40,
   "id": "f776fdcf",
   "metadata": {},
   "outputs": [
    {
     "data": {
      "text/plain": [
       "'C:\\\\Users\\\\anmol.deep\\\\PycharmProjects\\\\Mask_RCNN\\\\samples\\\\fashionpedia'"
      ]
     },
     "execution_count": 40,
     "metadata": {},
     "output_type": "execute_result"
    }
   ],
   "source": [
    "os.getcwd()"
   ]
  },
  {
   "cell_type": "code",
   "execution_count": null,
   "id": "a8d5d858",
   "metadata": {},
   "outputs": [],
   "source": []
  }
 ],
 "metadata": {
  "kernelspec": {
   "display_name": "Python 3 (ipykernel)",
   "language": "python",
   "name": "python3"
  },
  "language_info": {
   "codemirror_mode": {
    "name": "ipython",
    "version": 3
   },
   "file_extension": ".py",
   "mimetype": "text/x-python",
   "name": "python",
   "nbconvert_exporter": "python",
   "pygments_lexer": "ipython3",
   "version": "3.9.7"
  }
 },
 "nbformat": 4,
 "nbformat_minor": 5
}
