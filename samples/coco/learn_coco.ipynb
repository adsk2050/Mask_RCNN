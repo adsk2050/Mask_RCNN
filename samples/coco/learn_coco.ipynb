{
 "cells": [
  {
   "cell_type": "code",
   "execution_count": 6,
   "id": "bc89d4a0",
   "metadata": {},
   "outputs": [],
   "source": [
    "import coco"
   ]
  },
  {
   "cell_type": "code",
   "execution_count": 7,
   "id": "9b1ac084",
   "metadata": {},
   "outputs": [],
   "source": [
    "dataset = coco.CocoDataset()"
   ]
  },
  {
   "cell_type": "code",
   "execution_count": 8,
   "id": "9be3a0ad",
   "metadata": {},
   "outputs": [
    {
     "data": {
      "text/plain": [
       "['_image_ids',\n",
       " 'image_info',\n",
       " 'class_info',\n",
       " 'source_class_ids',\n",
       " '__module__',\n",
       " 'load_coco',\n",
       " 'auto_download',\n",
       " 'load_mask',\n",
       " 'image_reference',\n",
       " 'annToRLE',\n",
       " 'annToMask',\n",
       " '__doc__',\n",
       " '__init__',\n",
       " 'add_class',\n",
       " 'add_image',\n",
       " 'prepare',\n",
       " 'map_source_class_id',\n",
       " 'get_source_class_id',\n",
       " 'image_ids',\n",
       " 'source_image_link',\n",
       " 'load_image',\n",
       " '__dict__',\n",
       " '__weakref__',\n",
       " '__repr__',\n",
       " '__hash__',\n",
       " '__str__',\n",
       " '__getattribute__',\n",
       " '__setattr__',\n",
       " '__delattr__',\n",
       " '__lt__',\n",
       " '__le__',\n",
       " '__eq__',\n",
       " '__ne__',\n",
       " '__gt__',\n",
       " '__ge__',\n",
       " '__new__',\n",
       " '__reduce_ex__',\n",
       " '__reduce__',\n",
       " '__subclasshook__',\n",
       " '__init_subclass__',\n",
       " '__format__',\n",
       " '__sizeof__',\n",
       " '__dir__',\n",
       " '__class__']"
      ]
     },
     "execution_count": 8,
     "metadata": {},
     "output_type": "execute_result"
    }
   ],
   "source": [
    "dataset.__dir__()"
   ]
  },
  {
   "cell_type": "code",
   "execution_count": 15,
   "id": "df0bd60a",
   "metadata": {},
   "outputs": [],
   "source": [
    "import os"
   ]
  },
  {
   "cell_type": "code",
   "execution_count": 16,
   "id": "a3c57561",
   "metadata": {},
   "outputs": [
    {
     "data": {
      "text/plain": [
       "'C:\\\\Users\\\\anmol.deep\\\\PycharmProjects\\\\Mask_RCNN\\\\samples\\\\coco'"
      ]
     },
     "execution_count": 16,
     "metadata": {},
     "output_type": "execute_result"
    }
   ],
   "source": [
    "os.getcwd()"
   ]
  },
  {
   "cell_type": "code",
   "execution_count": 17,
   "id": "a5208022",
   "metadata": {},
   "outputs": [],
   "source": [
    "dataset_dir = \"C:\\\\Users\\\\anmol.deep\\\\PycharmProjects\\\\Mask_RCNN\\\\samples\\\\coco\\\\dataset\"\n",
    "subset = \"train\"\n",
    "year = 2017"
   ]
  },
  {
   "cell_type": "code",
   "execution_count": 19,
   "id": "9169e8a2",
   "metadata": {},
   "outputs": [
    {
     "name": "stdout",
     "output_type": "stream",
     "text": [
      "loading annotations into memory...\n",
      "Done (t=32.86s)\n",
      "creating index...\n",
      "index created!\n"
     ]
    }
   ],
   "source": [
    "coco = coco.COCO(f\"{dataset_dir}/annotations/instances_{subset}{year}.json\")"
   ]
  },
  {
   "cell_type": "code",
   "execution_count": 20,
   "id": "ff870303",
   "metadata": {},
   "outputs": [],
   "source": [
    "if subset == \"minival\" or subset == \"valminusminival\":\n",
    "    subset = \"val\"\n",
    "image_dir = f\"{dataset_dir}/{subset}{year}\""
   ]
  },
  {
   "cell_type": "code",
   "execution_count": 46,
   "id": "5c8aef93",
   "metadata": {},
   "outputs": [
    {
     "data": {
      "text/plain": [
       "80"
      ]
     },
     "execution_count": 46,
     "metadata": {},
     "output_type": "execute_result"
    }
   ],
   "source": [
    "len(coco.getCatIds())"
   ]
  },
  {
   "cell_type": "code",
   "execution_count": 48,
   "id": "886cddaa",
   "metadata": {},
   "outputs": [
    {
     "data": {
      "text/plain": [
       "77"
      ]
     },
     "execution_count": 48,
     "metadata": {},
     "output_type": "execute_result"
    }
   ],
   "source": [
    "93-16"
   ]
  },
  {
   "cell_type": "code",
   "execution_count": 24,
   "id": "c4c92378",
   "metadata": {},
   "outputs": [],
   "source": [
    "class_ids = []\n",
    "# Load all classes or a subset?\n",
    "if not class_ids:\n",
    "    # All classes\n",
    "    class_ids = sorted(coco.getCatIds())[:5]"
   ]
  },
  {
   "cell_type": "code",
   "execution_count": 45,
   "id": "5332ed95",
   "metadata": {},
   "outputs": [
    {
     "data": {
      "text/plain": [
       "6921"
      ]
     },
     "execution_count": 45,
     "metadata": {},
     "output_type": "execute_result"
    }
   ],
   "source": [
    "import numpy as np\n",
    "np.random.seed(1)\n",
    "np.random.choice(coco.getImgIds(catIds=[1]), replace=False)"
   ]
  },
  {
   "cell_type": "code",
   "execution_count": 44,
   "id": "3ea09433",
   "metadata": {},
   "outputs": [
    {
     "name": "stdout",
     "output_type": "stream",
     "text": [
      "2\n"
     ]
    }
   ],
   "source": [
    "if 1 or None:\n",
    "    print(\"2\")"
   ]
  },
  {
   "cell_type": "code",
   "execution_count": null,
   "id": "49290270",
   "metadata": {},
   "outputs": [],
   "source": [
    "# All images or a subset?\n",
    "if class_ids:\n",
    "    image_ids = []\n",
    "    for id in class_ids:\n",
    "        image_ids.extend(list(coco.getImgIds(catIds=[id])))\n",
    "    # Remove duplicates\n",
    "    image_ids = list(set(image_ids))\n",
    "else:\n",
    "    # All images\n",
    "    image_ids = list(coco.imgs.keys())"
   ]
  },
  {
   "cell_type": "code",
   "execution_count": null,
   "id": "e27abea5",
   "metadata": {},
   "outputs": [],
   "source": [
    "# Add classes\n",
    "for i in class_ids:\n",
    "    self.add_class(\"coco\", i, coco.loadCats(i)[0][\"name\"])"
   ]
  },
  {
   "cell_type": "code",
   "execution_count": null,
   "id": "9ce1d638",
   "metadata": {},
   "outputs": [],
   "source": [
    "# Add images\n",
    "for i in image_ids:\n",
    "    self.add_image(\n",
    "        \"coco\", image_id=i,\n",
    "        path=os.path.join(image_dir, coco.imgs[i]['file_name']),\n",
    "        width=coco.imgs[i][\"width\"],\n",
    "        height=coco.imgs[i][\"height\"],\n",
    "        annotations=coco.loadAnns(coco.getAnnIds(\n",
    "            imgIds=[i], catIds=class_ids, iscrowd=None)))"
   ]
  },
  {
   "cell_type": "code",
   "execution_count": null,
   "id": "890217a2",
   "metadata": {},
   "outputs": [],
   "source": [
    "if return_coco:\n",
    "    return coco"
   ]
  }
 ],
 "metadata": {
  "kernelspec": {
   "display_name": "Python 3 (ipykernel)",
   "language": "python",
   "name": "python3"
  },
  "language_info": {
   "codemirror_mode": {
    "name": "ipython",
    "version": 3
   },
   "file_extension": ".py",
   "mimetype": "text/x-python",
   "name": "python",
   "nbconvert_exporter": "python",
   "pygments_lexer": "ipython3",
   "version": "3.9.7"
  }
 },
 "nbformat": 4,
 "nbformat_minor": 5
}
